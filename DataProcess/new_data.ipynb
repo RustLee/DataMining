{
 "cells": [
  {
   "cell_type": "code",
   "execution_count": 160,
   "metadata": {
    "collapsed": true,
    "pycharm": {
     "is_executing": false
    }
   },
   "outputs": [],
   "source": [
    "import pandas as pd\n",
    "import csv"
   ]
  },
  {
   "cell_type": "code",
   "execution_count": 161,
   "outputs": [],
   "source": [
    "filepath = \"E:/study/NLP/dataset/fullData/\"\n",
    "filename = filepath + \"essays/dev.txt\"\n",
    "originpath = \"E:/study/NLP/dataset/wait_for_process/\"\n",
    "originname = originpath + \"essays/dev.txt\"\n",
    "resultpath = \"E:/study/NLP/dataset/\"\n",
    "resultname = resultpath + \"dev.txt\""
   ],
   "metadata": {
    "collapsed": false,
    "pycharm": {
     "name": "#%%\n",
     "is_executing": false
    }
   }
  },
  {
   "cell_type": "code",
   "execution_count": 162,
   "outputs": [
    {
     "data": {
      "text/plain": "                  0    1      2\n0      Universities    O      O\n1           require    O      O\n2          students    O      O\n3                to    O      O\n4             study    O      O\n...             ...  ...    ...\n43528             a    I  Claim\n43529        modern    I  Claim\n43530       library    I  Claim\n43531             .    O      O\n43532           NaN  NaN    NaN\n\n[43533 rows x 3 columns]",
      "text/html": "<div>\n<style scoped>\n    .dataframe tbody tr th:only-of-type {\n        vertical-align: middle;\n    }\n\n    .dataframe tbody tr th {\n        vertical-align: top;\n    }\n\n    .dataframe thead th {\n        text-align: right;\n    }\n</style>\n<table border=\"1\" class=\"dataframe\">\n  <thead>\n    <tr style=\"text-align: right;\">\n      <th></th>\n      <th>0</th>\n      <th>1</th>\n      <th>2</th>\n    </tr>\n  </thead>\n  <tbody>\n    <tr>\n      <td>0</td>\n      <td>Universities</td>\n      <td>O</td>\n      <td>O</td>\n    </tr>\n    <tr>\n      <td>1</td>\n      <td>require</td>\n      <td>O</td>\n      <td>O</td>\n    </tr>\n    <tr>\n      <td>2</td>\n      <td>students</td>\n      <td>O</td>\n      <td>O</td>\n    </tr>\n    <tr>\n      <td>3</td>\n      <td>to</td>\n      <td>O</td>\n      <td>O</td>\n    </tr>\n    <tr>\n      <td>4</td>\n      <td>study</td>\n      <td>O</td>\n      <td>O</td>\n    </tr>\n    <tr>\n      <td>...</td>\n      <td>...</td>\n      <td>...</td>\n      <td>...</td>\n    </tr>\n    <tr>\n      <td>43528</td>\n      <td>a</td>\n      <td>I</td>\n      <td>Claim</td>\n    </tr>\n    <tr>\n      <td>43529</td>\n      <td>modern</td>\n      <td>I</td>\n      <td>Claim</td>\n    </tr>\n    <tr>\n      <td>43530</td>\n      <td>library</td>\n      <td>I</td>\n      <td>Claim</td>\n    </tr>\n    <tr>\n      <td>43531</td>\n      <td>.</td>\n      <td>O</td>\n      <td>O</td>\n    </tr>\n    <tr>\n      <td>43532</td>\n      <td>NaN</td>\n      <td>NaN</td>\n      <td>NaN</td>\n    </tr>\n  </tbody>\n</table>\n<p>43533 rows × 3 columns</p>\n</div>"
     },
     "metadata": {},
     "output_type": "execute_result",
     "execution_count": 162
    }
   ],
   "source": [
    "dataset = pd.read_csv(filename,sep='\\t',quoting=csv.QUOTE_NONE,header=None,encoding='utf8',skip_blank_lines=False,usecols=[0,1,2])\n",
    "dataset.columns = list('012')\n",
    "dataset\n"
   ],
   "metadata": {
    "collapsed": false,
    "pycharm": {
     "name": "#%%\n",
     "is_executing": false
    }
   }
  },
  {
   "cell_type": "code",
   "execution_count": 163,
   "outputs": [
    {
     "data": {
      "text/plain": "                  0        1\n0      Universities        O\n1           require        O\n2          students        O\n3                to        O\n4             study        O\n...             ...      ...\n43528             a  I-Claim\n43529        modern  I-Claim\n43530       library  I-Claim\n43531             .        O\n43532           NaN      NaN\n\n[43533 rows x 2 columns]",
      "text/html": "<div>\n<style scoped>\n    .dataframe tbody tr th:only-of-type {\n        vertical-align: middle;\n    }\n\n    .dataframe tbody tr th {\n        vertical-align: top;\n    }\n\n    .dataframe thead th {\n        text-align: right;\n    }\n</style>\n<table border=\"1\" class=\"dataframe\">\n  <thead>\n    <tr style=\"text-align: right;\">\n      <th></th>\n      <th>0</th>\n      <th>1</th>\n    </tr>\n  </thead>\n  <tbody>\n    <tr>\n      <td>0</td>\n      <td>Universities</td>\n      <td>O</td>\n    </tr>\n    <tr>\n      <td>1</td>\n      <td>require</td>\n      <td>O</td>\n    </tr>\n    <tr>\n      <td>2</td>\n      <td>students</td>\n      <td>O</td>\n    </tr>\n    <tr>\n      <td>3</td>\n      <td>to</td>\n      <td>O</td>\n    </tr>\n    <tr>\n      <td>4</td>\n      <td>study</td>\n      <td>O</td>\n    </tr>\n    <tr>\n      <td>...</td>\n      <td>...</td>\n      <td>...</td>\n    </tr>\n    <tr>\n      <td>43528</td>\n      <td>a</td>\n      <td>I-Claim</td>\n    </tr>\n    <tr>\n      <td>43529</td>\n      <td>modern</td>\n      <td>I-Claim</td>\n    </tr>\n    <tr>\n      <td>43530</td>\n      <td>library</td>\n      <td>I-Claim</td>\n    </tr>\n    <tr>\n      <td>43531</td>\n      <td>.</td>\n      <td>O</td>\n    </tr>\n    <tr>\n      <td>43532</td>\n      <td>NaN</td>\n      <td>NaN</td>\n    </tr>\n  </tbody>\n</table>\n<p>43533 rows × 2 columns</p>\n</div>"
     },
     "metadata": {},
     "output_type": "execute_result",
     "execution_count": 163
    }
   ],
   "source": [
    "process_dataset = pd.read_csv(originname,sep='\\t',quoting=csv.QUOTE_NONE,header=None,encoding='utf8',skip_blank_lines=False,usecols=[0,1])\n",
    "process_dataset.columns = list('01')\n",
    "process_dataset"
   ],
   "metadata": {
    "collapsed": false,
    "pycharm": {
     "name": "#%%\n",
     "is_executing": false
    }
   }
  },
  {
   "cell_type": "code",
   "execution_count": 164,
   "outputs": [
    {
     "data": {
      "text/plain": "                  0        1    2      3\n0      Universities        O    O      O\n1           require        O    O      O\n2          students        O    O      O\n3                to        O    O      O\n4             study        O    O      O\n...             ...      ...  ...    ...\n43528             a  I-Claim    I  Claim\n43529        modern  I-Claim    I  Claim\n43530       library  I-Claim    I  Claim\n43531             .        O    O      O\n43532           NaN      NaN  NaN    NaN\n\n[43533 rows x 4 columns]",
      "text/html": "<div>\n<style scoped>\n    .dataframe tbody tr th:only-of-type {\n        vertical-align: middle;\n    }\n\n    .dataframe tbody tr th {\n        vertical-align: top;\n    }\n\n    .dataframe thead th {\n        text-align: right;\n    }\n</style>\n<table border=\"1\" class=\"dataframe\">\n  <thead>\n    <tr style=\"text-align: right;\">\n      <th></th>\n      <th>0</th>\n      <th>1</th>\n      <th>2</th>\n      <th>3</th>\n    </tr>\n  </thead>\n  <tbody>\n    <tr>\n      <td>0</td>\n      <td>Universities</td>\n      <td>O</td>\n      <td>O</td>\n      <td>O</td>\n    </tr>\n    <tr>\n      <td>1</td>\n      <td>require</td>\n      <td>O</td>\n      <td>O</td>\n      <td>O</td>\n    </tr>\n    <tr>\n      <td>2</td>\n      <td>students</td>\n      <td>O</td>\n      <td>O</td>\n      <td>O</td>\n    </tr>\n    <tr>\n      <td>3</td>\n      <td>to</td>\n      <td>O</td>\n      <td>O</td>\n      <td>O</td>\n    </tr>\n    <tr>\n      <td>4</td>\n      <td>study</td>\n      <td>O</td>\n      <td>O</td>\n      <td>O</td>\n    </tr>\n    <tr>\n      <td>...</td>\n      <td>...</td>\n      <td>...</td>\n      <td>...</td>\n      <td>...</td>\n    </tr>\n    <tr>\n      <td>43528</td>\n      <td>a</td>\n      <td>I-Claim</td>\n      <td>I</td>\n      <td>Claim</td>\n    </tr>\n    <tr>\n      <td>43529</td>\n      <td>modern</td>\n      <td>I-Claim</td>\n      <td>I</td>\n      <td>Claim</td>\n    </tr>\n    <tr>\n      <td>43530</td>\n      <td>library</td>\n      <td>I-Claim</td>\n      <td>I</td>\n      <td>Claim</td>\n    </tr>\n    <tr>\n      <td>43531</td>\n      <td>.</td>\n      <td>O</td>\n      <td>O</td>\n      <td>O</td>\n    </tr>\n    <tr>\n      <td>43532</td>\n      <td>NaN</td>\n      <td>NaN</td>\n      <td>NaN</td>\n      <td>NaN</td>\n    </tr>\n  </tbody>\n</table>\n<p>43533 rows × 4 columns</p>\n</div>"
     },
     "metadata": {},
     "output_type": "execute_result",
     "execution_count": 164
    }
   ],
   "source": [
    "process_dataset['2'] = dataset['1']\n",
    "process_dataset['3'] = dataset['2']\n",
    "process_dataset"
   ],
   "metadata": {
    "collapsed": false,
    "pycharm": {
     "name": "#%%\n",
     "is_executing": false
    }
   }
  },
  {
   "cell_type": "code",
   "execution_count": 165,
   "outputs": [],
   "source": [
    "process_dataset.to_csv(resultname,sep='\\t',header=None,index=False)"
   ],
   "metadata": {
    "collapsed": false,
    "pycharm": {
     "name": "#%%\n",
     "is_executing": false
    }
   }
  }
 ],
 "metadata": {
  "kernelspec": {
   "name": "pycharm-18618ff",
   "language": "python",
   "display_name": "PyCharm (NLP_Study)"
  },
  "language_info": {
   "codemirror_mode": {
    "name": "ipython",
    "version": 2
   },
   "file_extension": ".py",
   "mimetype": "text/x-python",
   "name": "python",
   "nbconvert_exporter": "python",
   "pygments_lexer": "ipython2",
   "version": "2.7.6"
  },
  "pycharm": {
   "stem_cell": {
    "cell_type": "raw",
    "source": [],
    "metadata": {
     "collapsed": false
    }
   }
  }
 },
 "nbformat": 4,
 "nbformat_minor": 0
}