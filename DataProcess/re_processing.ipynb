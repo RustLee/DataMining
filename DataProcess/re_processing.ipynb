{
 "cells": [
  {
   "cell_type": "code",
   "execution_count": 14,
   "metadata": {
    "collapsed": true,
    "pycharm": {
     "is_executing": false
    }
   },
   "outputs": [],
   "source": [
    "import pandas as pd\n",
    "import csv\n",
    "file = \"E:/study/NLP/dataset/train.txt\"\n",
    "data = pd.read_csv(file,encoding='utf8',sep='\\t',skip_blank_lines=False,quoting=csv.QUOTE_NONE,usecols=[0,1,2])\n",
    "data.columns = list('012')\n",
    "data['1'] = data['1'].str.replace('O','OO')\n",
    "data.to_csv(file,sep='\\t',header=None,index=False)\n",
    "\n"
   ]
  }
 ],
 "metadata": {
  "kernelspec": {
   "name": "pycharm-18618ff",
   "language": "python",
   "display_name": "PyCharm (NLP_Study)"
  },
  "language_info": {
   "codemirror_mode": {
    "name": "ipython",
    "version": 2
   },
   "file_extension": ".py",
   "mimetype": "text/x-python",
   "name": "python",
   "nbconvert_exporter": "python",
   "pygments_lexer": "ipython2",
   "version": "2.7.6"
  },
  "pycharm": {
   "stem_cell": {
    "cell_type": "raw",
    "source": [],
    "metadata": {
     "collapsed": false
    }
   }
  }
 },
 "nbformat": 4,
 "nbformat_minor": 0
}