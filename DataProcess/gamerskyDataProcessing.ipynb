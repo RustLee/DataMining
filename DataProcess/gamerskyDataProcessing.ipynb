{
 "cells": [
  {
   "cell_type": "code",
   "execution_count": 11,
   "metadata": {
    "collapsed": true
   },
   "outputs": [],
   "source": [
    "import pandas as pd\n",
    "import jieba\n",
    "import csv\n",
    "import numpy as np\n",
    "import wordcloud\n",
    "from PIL import Image\n",
    "import matplotlib.pyplot as plt\n",
    "import collections"
   ]
  },
  {
   "cell_type": "code",
   "execution_count": 12,
   "outputs": [],
   "source": [
    "filepath = \"D:/Pycharm/Data_process/\"\n",
    "filename = filepath + \"青春有你2.csv\"\n",
    "stopfilename = filepath + \"stopwords.txt\""
   ],
   "metadata": {
    "collapsed": false,
    "pycharm": {
     "name": "#%%\n"
    }
   }
  },
  {
   "cell_type": "code",
   "execution_count": 13,
   "outputs": [],
   "source": [
    "dataset = pd.read_csv(filename,sep=',',header=None,encoding='utf8',usecols=[2])\n",
    "list = dataset.values.tolist()\n",
    "datalist = []\n",
    "for i in list:\n",
    "    datalist.append(i[0])"
   ],
   "metadata": {
    "collapsed": false,
    "pycharm": {
     "name": "#%%\n"
    }
   }
  },
  {
   "cell_type": "code",
   "execution_count": 14,
   "outputs": [],
   "source": [
    "stoplist = []\n",
    "with open(stopfilename,'r',encoding='utf8') as f:\n",
    "    for line in f.readlines():\n",
    "        stoplist.append(line.strip('\\n'))\n",
    "\n",
    "stopwords = {}.fromkeys(stoplist)\n",
    "RS = []\n",
    "for i in range(len(datalist)-1):\n",
    "    result = []\n",
    "    if datalist[i] is None:\n",
    "        continue\n",
    "    seg_list = jieba.cut(datalist[i])\n",
    "    # print(\"title \" + str(i) + \" finished\")\n",
    "    for w in seg_list:\n",
    "        if w not in stopwords and w != ' ':\n",
    "            result.append(w)\n",
    "    for j in range(len(result)-1):\n",
    "        RS.append(result[j])\n",
    "word_counts = collections.Counter(RS)\n",
    "word_counts_top100 = word_counts.most_common(100)\n",
    "file = open(filepath + '词频_青你2.csv','w',newline='',encoding='utf8')\n",
    "writer = csv.writer(file)\n",
    "writer.writerows(word_counts_top100)\n",
    "file.close()\n",
    "\n",
    "# file.close()\n"
   ],
   "metadata": {
    "collapsed": false,
    "pycharm": {
     "name": "#%%\n"
    }
   }
  }
 ],
 "metadata": {
  "kernelspec": {
   "display_name": "Python 3",
   "language": "python",
   "name": "python3"
  },
  "language_info": {
   "codemirror_mode": {
    "name": "ipython",
    "version": 2
   },
   "file_extension": ".py",
   "mimetype": "text/x-python",
   "name": "python",
   "nbconvert_exporter": "python",
   "pygments_lexer": "ipython2",
   "version": "2.7.6"
  }
 },
 "nbformat": 4,
 "nbformat_minor": 0
}